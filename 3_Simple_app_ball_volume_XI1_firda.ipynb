{
  "nbformat": 4,
  "nbformat_minor": 0,
  "metadata": {
    "colab": {
      "provenance": [],
      "authorship_tag": "ABX9TyOaxDXAvXdpj24gB4FUuRva",
      "include_colab_link": true
    },
    "kernelspec": {
      "name": "python3",
      "display_name": "Python 3"
    },
    "language_info": {
      "name": "python"
    }
  },
  "cells": [
    {
      "cell_type": "markdown",
      "metadata": {
        "id": "view-in-github",
        "colab_type": "text"
      },
      "source": [
        "<a href=\"https://colab.research.google.com/github/firdafirfirda-cyber/KKASmt1/blob/main/3_Simple_app_ball_volume_XI1_firda.ipynb\" target=\"_parent\"><img src=\"https://colab.research.google.com/assets/colab-badge.svg\" alt=\"Open In Colab\"/></a>"
      ]
    },
    {
      "cell_type": "markdown",
      "source": [
        "Nama : Firda Hanifa\n",
        "\n",
        "Kelas : XI.1\n",
        "\n",
        "No Absen : 16\n",
        "\n",
        "Nama Kelompok : Lana del rey"
      ],
      "metadata": {
        "id": "FA7ViRrrh0fe"
      }
    },
    {
      "cell_type": "code",
      "execution_count": 1,
      "metadata": {
        "colab": {
          "base_uri": "https://localhost:8080/"
        },
        "id": "42bsfK4UhNnM",
        "outputId": "b1d8155a-79ad-4444-da5d-cd73ad752f7e"
      },
      "outputs": [
        {
          "output_type": "stream",
          "name": "stdout",
          "text": [
            "masukkan jari jari kerucut:7\n",
            " masukkan tinggi kerucut:14\n",
            " volume kerucut adalah 718.0133333333333 cm^3\n"
          ]
        }
      ],
      "source": [
        "Jari_jari = float(input(\"masukkan jari jari kerucut:\"))\n",
        "Tinggi = float(input(\" masukkan tinggi kerucut:\"))\n",
        "pi = 3.14\n",
        "volume =(1/3)* pi * (Jari_jari**2)* Tinggi\n",
        "print(f\" volume kerucut adalah {volume} cm^3\")"
      ]
    }
  ]
}