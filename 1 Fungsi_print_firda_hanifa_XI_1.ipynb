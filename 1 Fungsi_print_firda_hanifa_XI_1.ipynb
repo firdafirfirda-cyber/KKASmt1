{
  "nbformat": 4,
  "nbformat_minor": 0,
  "metadata": {
    "colab": {
      "provenance": [],
      "authorship_tag": "ABX9TyPJyyU7dJAuDjwbQpMt6ECk",
      "include_colab_link": true
    },
    "kernelspec": {
      "name": "python3",
      "display_name": "Python 3"
    },
    "language_info": {
      "name": "python"
    }
  },
  "cells": [
    {
      "cell_type": "markdown",
      "metadata": {
        "id": "view-in-github",
        "colab_type": "text"
      },
      "source": [
        "<a href=\"https://colab.research.google.com/github/firdafirfirda-cyber/KKASmt1/blob/main/1%20Fungsi_print_firda_hanifa_XI_1.ipynb\" target=\"_parent\"><img src=\"https://colab.research.google.com/assets/colab-badge.svg\" alt=\"Open In Colab\"/></a>"
      ]
    },
    {
      "cell_type": "code",
      "execution_count": null,
      "metadata": {
        "colab": {
          "base_uri": "https://localhost:8080/"
        },
        "id": "5SBMex8lFUAI",
        "outputId": "5c26bd39-0570-4383-dadd-65266e87672e"
      },
      "outputs": [
        {
          "output_type": "stream",
          "name": "stdout",
          "text": [
            "halo dunia\n"
          ]
        }
      ],
      "source": [
        "print(\"halo dunia\")"
      ]
    },
    {
      "cell_type": "code",
      "source": [
        "print(\"selamat datang di phython\")"
      ],
      "metadata": {
        "colab": {
          "base_uri": "https://localhost:8080/"
        },
        "id": "Zt_No74zFmvT",
        "outputId": "8616497a-f356-4908-a69a-07e652a71447"
      },
      "execution_count": null,
      "outputs": [
        {
          "output_type": "stream",
          "name": "stdout",
          "text": [
            "selamat datang di phython\n"
          ]
        }
      ]
    },
    {
      "cell_type": "code",
      "source": [
        "print('firda hanifa')"
      ],
      "metadata": {
        "colab": {
          "base_uri": "https://localhost:8080/"
        },
        "id": "ljUXibYWF2LS",
        "outputId": "0b09ed1b-a776-4978-8fe0-8048b398ef73"
      },
      "execution_count": null,
      "outputs": [
        {
          "output_type": "stream",
          "name": "stdout",
          "text": [
            "firda hanifa\n"
          ]
        }
      ]
    },
    {
      "cell_type": "markdown",
      "source": [
        "# Menampilkan Teks Bebas"
      ],
      "metadata": {
        "id": "6O5zRi7-GcHk"
      }
    },
    {
      "cell_type": "markdown",
      "source": [
        "# Variabel"
      ],
      "metadata": {
        "id": "NgdTp8ExHaUN"
      }
    },
    {
      "cell_type": "code",
      "source": [
        "BB = 50\n",
        "print(BB)"
      ],
      "metadata": {
        "colab": {
          "base_uri": "https://localhost:8080/"
        },
        "id": "7gASUdQ1Hn_E",
        "outputId": "f850a6e1-e9f6-4104-aaf1-6d7a18209728"
      },
      "execution_count": null,
      "outputs": [
        {
          "output_type": "stream",
          "name": "stdout",
          "text": [
            "50\n"
          ]
        }
      ]
    },
    {
      "cell_type": "code",
      "source": [
        "UMUR = 16\n",
        "print(UMUR)"
      ],
      "metadata": {
        "colab": {
          "base_uri": "https://localhost:8080/"
        },
        "id": "1q7CyBHIIVci",
        "outputId": "775da348-cd81-49e5-b3d4-9bb367d277d6"
      },
      "execution_count": null,
      "outputs": [
        {
          "output_type": "stream",
          "name": "stdout",
          "text": [
            "16\n"
          ]
        }
      ]
    },
    {
      "cell_type": "markdown",
      "source": [],
      "metadata": {
        "id": "rjEMoX7TGoPH"
      }
    },
    {
      "cell_type": "markdown",
      "source": [
        "Latihan soal\n",
        "1. tampilkan teks bebas : Hari ini saya bahagia belajar bahasa python\n",
        "2. tampilkan nilai variabel : mata_pelajaran_favorit = kode dan kecerdasan buatan\n",
        "3. tampilkan nilai variabel : nilai_kka = 100\n",
        "4. tampilkan teks bebas dan nilai variabel dengan tiga metode (f string,\"+\",\",\"):\" Nilai KKA saya adalah {nilai_kka} loh!\""
      ],
      "metadata": {
        "id": "u3uix9UzHQA9"
      }
    },
    {
      "cell_type": "markdown",
      "source": [
        "jawaban latihan soal"
      ],
      "metadata": {
        "id": "JNSU9XuqX3Yb"
      }
    },
    {
      "cell_type": "code",
      "source": [
        "print(\"hari ini saya bahagia belajar bahasa python\")"
      ],
      "metadata": {
        "colab": {
          "base_uri": "https://localhost:8080/"
        },
        "id": "p3umbbXgYANW",
        "outputId": "6ddf34ae-4ba1-4c8c-cbdf-f1a4f2ff6bed"
      },
      "execution_count": null,
      "outputs": [
        {
          "output_type": "stream",
          "name": "stdout",
          "text": [
            "hari ini saya bahagia belajar bahasa python\n"
          ]
        }
      ]
    },
    {
      "cell_type": "code",
      "source": [
        "mata_pelajaran_favorit = \"kode dan kecerdasan buatan\"\n",
        "print(mata_pelajaran_favorit)"
      ],
      "metadata": {
        "colab": {
          "base_uri": "https://localhost:8080/"
        },
        "id": "XS8woZymYdcI",
        "outputId": "68a7e662-8370-4f33-c814-e261646bae94"
      },
      "execution_count": null,
      "outputs": [
        {
          "output_type": "stream",
          "name": "stdout",
          "text": [
            "kode dan kecerdasan buatan\n"
          ]
        }
      ]
    },
    {
      "cell_type": "code",
      "source": [
        "nilai_kka = 100\n",
        "print(nilai_kka)"
      ],
      "metadata": {
        "colab": {
          "base_uri": "https://localhost:8080/"
        },
        "id": "M1CU0AJnY2dU",
        "outputId": "0bf7164b-b409-4ff9-cf57-acddb7f2c53a"
      },
      "execution_count": null,
      "outputs": [
        {
          "output_type": "stream",
          "name": "stdout",
          "text": [
            "100\n"
          ]
        }
      ]
    },
    {
      "cell_type": "code",
      "source": [
        "print(f\"Nilai KKA saya adalah {nilai_kka}loh!\")"
      ],
      "metadata": {
        "colab": {
          "base_uri": "https://localhost:8080/"
        },
        "id": "sibNCROdZcLQ",
        "outputId": "a8e2db57-0187-49f8-b0ae-6a7a893d67bb"
      },
      "execution_count": null,
      "outputs": [
        {
          "output_type": "stream",
          "name": "stdout",
          "text": [
            "Nilai KKA saya adalah 100loh!\n"
          ]
        }
      ]
    },
    {
      "cell_type": "code",
      "source": [
        "print(\"Nilai KKA saya adalah \" + str(nilai_kka) + \" loh!\")"
      ],
      "metadata": {
        "colab": {
          "base_uri": "https://localhost:8080/"
        },
        "id": "DrgGDJSkZ2cn",
        "outputId": "d54c75a9-5731-4b7e-ae88-824bdd743903"
      },
      "execution_count": null,
      "outputs": [
        {
          "output_type": "stream",
          "name": "stdout",
          "text": [
            "Nilai KKA saya adalah 100 loh!\n"
          ]
        }
      ]
    },
    {
      "cell_type": "code",
      "source": [
        "print(\"Nilai KKA saya adalah \", nilai_kka, \"loh\")"
      ],
      "metadata": {
        "id": "U7G6w_HoaaQK"
      },
      "execution_count": null,
      "outputs": []
    },
    {
      "cell_type": "markdown",
      "source": [
        "# Escape Character"
      ],
      "metadata": {
        "id": "ToGBHuBXJi5P"
      }
    },
    {
      "cell_type": "markdown",
      "source": [],
      "metadata": {
        "id": "44VUGFUpXxdY"
      }
    },
    {
      "cell_type": "code",
      "source": [
        "print(\"Nama: firda hanifa\")\n",
        "print(\"kelas: XI.1\")\n",
        "print(\"Nomor absen: 16\")\n"
      ],
      "metadata": {
        "colab": {
          "base_uri": "https://localhost:8080/"
        },
        "id": "oNg8CCvKJt77",
        "outputId": "1ed14468-d21b-4594-fad2-968449fed23a"
      },
      "execution_count": null,
      "outputs": [
        {
          "output_type": "stream",
          "name": "stdout",
          "text": [
            "Nama: firda hanifa\n",
            "kelas: XI.1\n",
            "Nomor absen: 16\n"
          ]
        }
      ]
    },
    {
      "cell_type": "code",
      "source": [
        "print(\"Nama: firda hanifa\\nKelas: XI.1\\nNomor absen: 28\")"
      ],
      "metadata": {
        "colab": {
          "base_uri": "https://localhost:8080/"
        },
        "id": "2eM4Ai9kKSCV",
        "outputId": "ce8b1775-bdef-4c9a-f75a-e1efa4694a89"
      },
      "execution_count": null,
      "outputs": [
        {
          "output_type": "stream",
          "name": "stdout",
          "text": [
            "Nama: firda hanifa\n",
            "Kelas: XI.1\n",
            "Nomor absen: 28\n"
          ]
        }
      ]
    },
    {
      "cell_type": "code",
      "source": [
        "print(\"\"\"Nama: firda hanifa\n",
        "kelas: XI.1\n",
        "Nomor absen:16\"\"\")"
      ],
      "metadata": {
        "colab": {
          "base_uri": "https://localhost:8080/"
        },
        "id": "2JeMOhFGK4Z8",
        "outputId": "b6e4fc92-546e-46c5-c9a8-d7a49c0808da"
      },
      "execution_count": null,
      "outputs": [
        {
          "output_type": "stream",
          "name": "stdout",
          "text": [
            "Nama: firda hanifa\n",
            "kelas: XI.1\n",
            "Nomor absen:16\n"
          ]
        }
      ]
    },
    {
      "cell_type": "code",
      "source": [
        "print(\"Nama\\t\\t: firda hanifa\\nKelas\\t\\t: XI.1\\nNomor absen\\t:16\")"
      ],
      "metadata": {
        "colab": {
          "base_uri": "https://localhost:8080/"
        },
        "id": "o-oHgsjbLakI",
        "outputId": "75256be0-07b7-433e-9a53-2346d1607f21"
      },
      "execution_count": null,
      "outputs": [
        {
          "output_type": "stream",
          "name": "stdout",
          "text": [
            "Nama\t\t: firda hanifa\n",
            "Kelas\t\t: XI.1\n",
            "Nomor absen\t:16\n"
          ]
        }
      ]
    },
    {
      "cell_type": "markdown",
      "source": [
        "# Menampilkan Teks Bebas dan Variabel"
      ],
      "metadata": {
        "id": "1s8asQ2PIsbW"
      }
    },
    {
      "cell_type": "code",
      "source": [
        "print(f\"Umur saya {UMUR} tahun\")"
      ],
      "metadata": {
        "colab": {
          "base_uri": "https://localhost:8080/"
        },
        "id": "9qpQfsxmJl3S",
        "outputId": "1c0aba86-ea0d-46c3-b59e-33defe200955"
      },
      "execution_count": null,
      "outputs": [
        {
          "output_type": "stream",
          "name": "stdout",
          "text": [
            "Umur saya 16 tahun\n"
          ]
        }
      ]
    },
    {
      "cell_type": "code",
      "source": [
        "nama= \"firda hanifa\"\n",
        "print(\"Halo \" + nama)"
      ],
      "metadata": {
        "colab": {
          "base_uri": "https://localhost:8080/"
        },
        "id": "9VjjtwWYKFQO",
        "outputId": "cb405a12-cc58-4d95-a9a0-101c34bfa238"
      },
      "execution_count": null,
      "outputs": [
        {
          "output_type": "stream",
          "name": "stdout",
          "text": [
            "Halo firda hanifa\n"
          ]
        }
      ]
    },
    {
      "cell_type": "markdown",
      "source": [],
      "metadata": {
        "id": "02RQB_I4CAwG"
      }
    },
    {
      "cell_type": "code",
      "source": [
        "harga_telur=26000\n",
        "\n",
        "print(\"Harga telur per 1 kg adalah \",harga_telur)"
      ],
      "metadata": {
        "colab": {
          "base_uri": "https://localhost:8080/"
        },
        "id": "5RrJGVWmDaCO",
        "outputId": "04034569-22ff-4d79-a0b7-4126a9926d21"
      },
      "execution_count": null,
      "outputs": [
        {
          "output_type": "stream",
          "name": "stdout",
          "text": [
            "Harga telur per 1 kg adalah  26000\n"
          ]
        }
      ]
    },
    {
      "cell_type": "code",
      "source": [
        "harga_telur=26000\n",
        "\n",
        "print(\"Harga telur per 1 kg adalah \"+ str(harga_telur))"
      ],
      "metadata": {
        "colab": {
          "base_uri": "https://localhost:8080/"
        },
        "id": "PpICY7uwFBHg",
        "outputId": "4f0c87b8-56fc-4b75-ae98-764d6231b42d"
      },
      "execution_count": null,
      "outputs": [
        {
          "output_type": "stream",
          "name": "stdout",
          "text": [
            "Harga telur per 1 kg adalah 26000\n"
          ]
        }
      ]
    },
    {
      "cell_type": "code",
      "source": [
        "nama_pembeli=\"Firda\"\n",
        "\n",
        "print(\"Nama pembeli telur adalah\" + nama_pembeli)"
      ],
      "metadata": {
        "colab": {
          "base_uri": "https://localhost:8080/"
        },
        "id": "Yr2EQR4AFiFD",
        "outputId": "ea009ec8-76d8-44f9-82cf-03861041ab49"
      },
      "execution_count": null,
      "outputs": [
        {
          "output_type": "stream",
          "name": "stdout",
          "text": [
            "Nama pembeli telur adalahFirda\n"
          ]
        }
      ]
    },
    {
      "cell_type": "markdown",
      "source": [
        "#Paramater Fungsi print"
      ],
      "metadata": {
        "id": "Shi7_OC62b9g"
      }
    },
    {
      "cell_type": "markdown",
      "source": [],
      "metadata": {
        "id": "ZWA4TwIq2L0c"
      }
    },
    {
      "cell_type": "code",
      "source": [
        "nama_siswa_1=\"Favian\""
      ],
      "metadata": {
        "id": "zT4S9HVCGd4x"
      },
      "execution_count": null,
      "outputs": []
    },
    {
      "cell_type": "code",
      "source": [
        "Tahun = 2000\n",
        "Bulan = \"Februari\"\n",
        "Tanggal = 18\n",
        "\n",
        "print(Tanggal, end=\" \")\n",
        "print(Bulan, end=\" \")\n",
        "print (Tahun)"
      ],
      "metadata": {
        "colab": {
          "base_uri": "https://localhost:8080/"
        },
        "id": "s2BJJJVI2nA3",
        "outputId": "30a1c5a1-7884-4419-9aff-b191476d047e"
      },
      "execution_count": null,
      "outputs": [
        {
          "output_type": "stream",
          "name": "stdout",
          "text": [
            "18 Februari 2000\n"
          ]
        }
      ]
    },
    {
      "cell_type": "code",
      "source": [
        "Tahun = 2000\n",
        "Bulan = \"Februari\"\n",
        "Tanggal = 18\n",
        "\n",
        "print(Tanggal, Bulan, Tahun, sep=\"/\")"
      ],
      "metadata": {
        "colab": {
          "base_uri": "https://localhost:8080/"
        },
        "id": "xDifgjVJ3rOR",
        "outputId": "f449b18c-8d04-40cc-afaa-9ecc11a15cb5"
      },
      "execution_count": null,
      "outputs": [
        {
          "output_type": "stream",
          "name": "stdout",
          "text": [
            "18/Februari/2000\n"
          ]
        }
      ]
    },
    {
      "cell_type": "markdown",
      "source": [
        "Latihan\n",
        "\n",
        "Tanggal Bulan Tahun"
      ],
      "metadata": {
        "id": "ErNQOF_T4dzl"
      }
    },
    {
      "cell_type": "code",
      "source": [
        "Tahun = 2009\n",
        "Bulan = \"mei\"\n",
        "Tanggal = 15\n",
        "\n",
        "print(Tanggal, end=\" \")\n",
        "print(Bulan, end=\" \")\n",
        "print(Tahun)"
      ],
      "metadata": {
        "colab": {
          "base_uri": "https://localhost:8080/"
        },
        "id": "hcLOFfDZ4pxD",
        "outputId": "7b449317-dfac-465e-ffa0-9b67a50a2f2c"
      },
      "execution_count": null,
      "outputs": [
        {
          "output_type": "stream",
          "name": "stdout",
          "text": [
            "15 mei 2009\n"
          ]
        }
      ]
    },
    {
      "cell_type": "code",
      "source": [
        "Tahun = 2009\n",
        "Bulan = \"mei\"\n",
        "Tanggal = 15\n",
        "\n",
        "print(Tanggal, Bulan, Tahun, sep=\"/\")"
      ],
      "metadata": {
        "colab": {
          "base_uri": "https://localhost:8080/"
        },
        "id": "S-3dA43U5ShL",
        "outputId": "bf089abb-8a0f-4afa-dd89-b412ad7be2a3"
      },
      "execution_count": null,
      "outputs": [
        {
          "output_type": "stream",
          "name": "stdout",
          "text": [
            "15/mei/2009\n"
          ]
        }
      ]
    },
    {
      "cell_type": "code",
      "source": [
        "Nama_depan = \"Firda\"\n",
        "Nama_belakang = \"Hanifa\"\n",
        "\n",
        "print(Nama_depan, end=\" \")\n",
        "print(Nama_belakang)"
      ],
      "metadata": {
        "colab": {
          "base_uri": "https://localhost:8080/"
        },
        "id": "np4Jmcld5yYE",
        "outputId": "70ec03cc-022b-4bce-8da9-85eb93087d47"
      },
      "execution_count": null,
      "outputs": [
        {
          "output_type": "stream",
          "name": "stdout",
          "text": [
            "Firda Hanifa\n"
          ]
        }
      ]
    },
    {
      "cell_type": "code",
      "source": [
        "print('Bu Shinta berkata, \"Berikut adalah judul pelajaran hari senin selasa rabu silahkan disimpan di laptop masing-masing di folder local disk D:\\\\Jadwal Pelajaran\\\\Kelas XI Semester 1.\" ')\n",
        "\n",
        "print(\"\\nJadwal Pelajaran Mingguan\")\n",
        "print(\"********************************************************\")\n",
        "print(\"Jam\\tSenin\\t\\tSelasa\\t\\tRabu\")\n",
        "print(\"Jam 1\\tMatematika\\tBahasa\\t\\tInformatika\")\n",
        "print(\"Jam 2\\tBahasa Ing.\\tSejarah\\t\\tMa'rifatullah\")\n",
        "print(\"Jam 3\\tInformatika\\tOlahraga\\t\")"
      ],
      "metadata": {
        "colab": {
          "base_uri": "https://localhost:8080/"
        },
        "id": "p0nbcfQ_6dxg",
        "outputId": "6c7f1ad4-2ff6-4d5b-a95f-b4475c29fa5d"
      },
      "execution_count": null,
      "outputs": [
        {
          "output_type": "stream",
          "name": "stdout",
          "text": [
            "Bu Shinta berkata, \"Berikut adalah judul pelajaran hari senin selasa rabu silahkan disimpan di laptop masing-masing di folder local disk D:\\Jadwal Pelajaran\\Kelas XI Semester 1.\" \n",
            "\n",
            "Jadwal Pelajaran Mingguan\n",
            "********************************************************\n",
            "Jam\tSenin\t\tSelasa\t\tRabu\n",
            "Jam 1\tMatematika\tBahasa\t\tInformatika\n",
            "Jam 2\tBahasa Ing.\tSejarah\t\tMa'rifatullah\n",
            "Jam 3\tInformatika\tOlahraga\t\n"
          ]
        }
      ]
    },
    {
      "cell_type": "markdown",
      "source": [
        "# Tampilkan keluaran berupa:\n",
        "# Naufal-Favian-Humaira-Favian\n",
        "# Dengan paramater sep"
      ],
      "metadata": {
        "id": "n3xQHpOuE7Ae"
      }
    },
    {
      "cell_type": "code",
      "source": [
        "# Tampilan keluaran berupa:\n",
        "# Naufal_Favian\n",
        "# Humaira_Favian\n",
        "# Dengan parameter end"
      ],
      "metadata": {
        "id": "J4dI-kEKFZqs"
      },
      "execution_count": null,
      "outputs": []
    },
    {
      "cell_type": "code",
      "source": [
        "nama_siswa_1= \"Naufal\"\n",
        "nama_siswa_2= \"Favian\"\n",
        "nama_siswa_3= \"Humaira\"\n",
        "nama_siswa_4= \"Favian\"\n",
        "\n",
        "print(nama_siswa_1, nama_siswa_2, nama_siswa_3, nama_siswa_4, sep=\"~\")"
      ],
      "metadata": {
        "colab": {
          "base_uri": "https://localhost:8080/"
        },
        "id": "Kn2UXv-AGmfa",
        "outputId": "8d9d56f2-ae7d-455e-e334-6a08409ef97b"
      },
      "execution_count": null,
      "outputs": [
        {
          "output_type": "stream",
          "name": "stdout",
          "text": [
            "Naufal~Favian~Humaira~Favian\n"
          ]
        }
      ]
    },
    {
      "cell_type": "code",
      "source": [
        "nama_siswa_1= \"Naufal\"\n",
        "nama_siswa_2= \"Favian\"\n",
        "nama_siswa_3= \"Humaira\"\n",
        "nama_siswa_4= \"Favian\"\n",
        "\n",
        "print(nama_siswa_1, end=\"~\")\n",
        "print(nama_siswa_2 )\n",
        "print(nama_siswa_3, end=\"~\")\n",
        "print(nama_siswa_4)"
      ],
      "metadata": {
        "colab": {
          "base_uri": "https://localhost:8080/"
        },
        "id": "WKUOFbN2HSk3",
        "outputId": "758ad4f5-fb5c-464a-d88c-93fe86da1ba0"
      },
      "execution_count": null,
      "outputs": [
        {
          "output_type": "stream",
          "name": "stdout",
          "text": [
            "Naufal~Favian\n",
            "Humaira~Favian\n"
          ]
        }
      ]
    },
    {
      "cell_type": "code",
      "source": [],
      "metadata": {
        "id": "ueptlK2lH0QL"
      },
      "execution_count": null,
      "outputs": []
    }
  ]
}